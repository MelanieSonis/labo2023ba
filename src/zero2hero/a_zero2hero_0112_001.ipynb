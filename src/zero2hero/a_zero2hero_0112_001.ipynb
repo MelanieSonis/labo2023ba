{
 "cells": [
  {
   "attachments": {},
   "cell_type": "markdown",
   "metadata": {},
   "source": [
    "# Zero to Hero"
   ]
  },
  {
   "attachments": {},
   "cell_type": "markdown",
   "metadata": {},
   "source": [
    "## 1.12 Funcion de Ganancia de Arbol training/testing"
   ]
  },
  {
   "attachments": {},
   "cell_type": "markdown",
   "metadata": {},
   "source": [
    "El objetivo es poner el notebook anterior dentro de una funcion, e invocarla con distintas semillas, para maravillarnos ante la dispersion de las ganancias"
   ]
  },
  {
   "cell_type": "code",
   "execution_count": 36,
   "metadata": {
    "tags": [],
    "vscode": {
     "languageId": "r"
    }
   },
   "outputs": [
    {
     "data": {
      "text/html": [
       "<table class=\"dataframe\">\n",
       "<caption>A matrix: 2 × 6 of type dbl</caption>\n",
       "<thead>\n",
       "\t<tr><th></th><th scope=col>used</th><th scope=col>(Mb)</th><th scope=col>gc trigger</th><th scope=col>(Mb)</th><th scope=col>max used</th><th scope=col>(Mb)</th></tr>\n",
       "</thead>\n",
       "<tbody>\n",
       "\t<tr><th scope=row>Ncells</th><td>2386989</td><td>127.5</td><td>  4768802</td><td> 254.7</td><td>  3145080</td><td> 168.0</td></tr>\n",
       "\t<tr><th scope=row>Vcells</th><td>4174098</td><td> 31.9</td><td>198651557</td><td>1515.6</td><td>248256670</td><td>1894.1</td></tr>\n",
       "</tbody>\n",
       "</table>\n"
      ],
      "text/latex": [
       "A matrix: 2 × 6 of type dbl\n",
       "\\begin{tabular}{r|llllll}\n",
       "  & used & (Mb) & gc trigger & (Mb) & max used & (Mb)\\\\\n",
       "\\hline\n",
       "\tNcells & 2386989 & 127.5 &   4768802 &  254.7 &   3145080 &  168.0\\\\\n",
       "\tVcells & 4174098 &  31.9 & 198651557 & 1515.6 & 248256670 & 1894.1\\\\\n",
       "\\end{tabular}\n"
      ],
      "text/markdown": [
       "\n",
       "A matrix: 2 × 6 of type dbl\n",
       "\n",
       "| <!--/--> | used | (Mb) | gc trigger | (Mb) | max used | (Mb) |\n",
       "|---|---|---|---|---|---|---|\n",
       "| Ncells | 2386989 | 127.5 |   4768802 |  254.7 |   3145080 |  168.0 |\n",
       "| Vcells | 4174098 |  31.9 | 198651557 | 1515.6 | 248256670 | 1894.1 |\n",
       "\n"
      ],
      "text/plain": [
       "       used    (Mb)  gc trigger (Mb)   max used  (Mb)  \n",
       "Ncells 2386989 127.5   4768802   254.7   3145080  168.0\n",
       "Vcells 4174098  31.9 198651557  1515.6 248256670 1894.1"
      ]
     },
     "metadata": {},
     "output_type": "display_data"
    }
   ],
   "source": [
    "rm(list = ls())\n",
    "gc()\n",
    "\n",
    "library(\"data.table\") # cargo la libreria  data.table\n",
    "library(\"rpart\") # cargo la libreria  rpart\n",
    "library(\"rpart.plot\")\n",
    "library(\"caret\")\n",
    "\n",
    "options(repr.plot.width = 20, repr.plot.height = 10)\n",
    "setwd(\"~/buckets/b1/\")"
   ]
  },
  {
   "cell_type": "code",
   "execution_count": 37,
   "metadata": {
    "tags": [],
    "vscode": {
     "languageId": "r"
    }
   },
   "outputs": [],
   "source": [
    "GananciaArbol <- function(semilla, data, x, train = 0.70) {\n",
    "  # establezco la semilla\n",
    "  set.seed(semilla)\n",
    "  train_rows <- createDataPartition(datajulio$clase_ternaria, p = 0.70, list = FALSE)\n",
    "\n",
    "  modelo <- rpart::rpart(\n",
    "    formula = \"clase_ternaria ~ .\",\n",
    "    data = data[train_rows], # los datos de training\n",
    "    xval = 0,\n",
    "    control = x\n",
    "  )\n",
    "\n",
    "  # Aplico el modelo a los datos de testing\n",
    "  prediccion <- predict(modelo, data[-train_rows], type = \"prob\")\n",
    "\n",
    "  prob_baja2 <- prediccion[, \"BAJA+2\"]\n",
    "  ganancia_testing <- data[-train_rows, sum((prob_baja2 > 0.025) * ifelse(clase_ternaria == \"BAJA+2\", 117000, -3000))]\n",
    "\n",
    "  return(ganancia_testing)\n",
    "}\n"
   ]
  },
  {
   "attachments": {},
   "cell_type": "markdown",
   "metadata": {},
   "source": [
    "Vale la pena notar que dentro de la funcion no se han creado  dtrain y dtest,  sino que directamente se utilizan:\n",
    "* data[ train_rows]  como training\n",
    "* data[ -train_rows]  como testing\n"
   ]
  },
  {
   "attachments": {},
   "cell_type": "markdown",
   "metadata": {},
   "source": [
    "#Aqui empieza el programa"
   ]
  },
  {
   "cell_type": "code",
   "execution_count": 38,
   "metadata": {
    "tags": [],
    "vscode": {
     "languageId": "r"
    }
   },
   "outputs": [],
   "source": [
    "dataset <- fread(\"./datasets/dataset_pequeno.csv\") # cargo el dataset #cargo el dataset\n",
    "datajulio <- dataset[foto_mes == 202107] # me quedo solo con el periodo 202107\n",
    "datasept <- dataset[foto_mes == 202109]\n"
   ]
  },
  {
   "cell_type": "code",
   "execution_count": 39,
   "metadata": {
    "tags": [],
    "vscode": {
     "languageId": "r"
    }
   },
   "outputs": [],
   "source": [
    "# defino unos buenos hiperparametros\n",
    "param <- list(\n",
    "    \"cp\" = -0.5,\n",
    "    \"minsplit\" = 500,\n",
    "    \"minbucket\" = 10,\n",
    "    \"maxdepth\" = 5\n",
    ")\n"
   ]
  },
  {
   "cell_type": "code",
   "execution_count": 40,
   "metadata": {
    "tags": [],
    "vscode": {
     "languageId": "r"
    }
   },
   "outputs": [],
   "source": [
    "# Ahora hago algunas llamadas a la funcion\n"
   ]
  },
  {
   "cell_type": "code",
   "execution_count": 41,
   "metadata": {
    "tags": [],
    "vscode": {
     "languageId": "r"
    }
   },
   "outputs": [
    {
     "data": {
      "text/html": [
       "15618000"
      ],
      "text/latex": [
       "15618000"
      ],
      "text/markdown": [
       "15618000"
      ],
      "text/plain": [
       "[1] 15618000"
      ]
     },
     "metadata": {},
     "output_type": "display_data"
    }
   ],
   "source": [
    "GananciaArbol(11, datajulio, x = param)\n"
   ]
  },
  {
   "cell_type": "code",
   "execution_count": 42,
   "metadata": {
    "vscode": {
     "languageId": "r"
    }
   },
   "outputs": [
    {
     "ename": "ERROR",
     "evalue": "Error in eval(expr, envir, enclos): object 'modelo' not found\n",
     "output_type": "error",
     "traceback": [
      "Error in eval(expr, envir, enclos): object 'modelo' not found\nTraceback:\n",
      "1. predict(modelo, datasept, type = \"prob\")"
     ]
    }
   ],
   "source": [
    "prediccion <- predict(modelo, datasept, type = \"prob\")\n",
    "\n",
    "prob_baja2 <- prediccion[, \"BAJA+2\"]\n",
    "Predicted <- ifelse(prob_baja2 > 0.025, 1, 0) \n",
    "\n",
    "entrega <- as.data.table(list(\"numero_de_cliente\" = datasept$numero_de_cliente, \"Predicted\" = Predicted)) #creo tabla"
   ]
  }
 ],
 "metadata": {
  "kernelspec": {
   "display_name": "R",
   "language": "R",
   "name": "ir"
  },
  "language_info": {
   "codemirror_mode": "r",
   "file_extension": ".r",
   "mimetype": "text/x-r-source",
   "name": "R",
   "pygments_lexer": "r",
   "version": "4.3.1"
  }
 },
 "nbformat": 4,
 "nbformat_minor": 4
}
